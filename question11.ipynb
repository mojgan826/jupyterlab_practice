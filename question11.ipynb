{
 "cells": [
  {
   "cell_type": "markdown",
   "id": "53f4e380-6b27-452b-a23f-6f3d48dd8ad3",
   "metadata": {
    "tags": []
   },
   "source": [
    "# Mojgan Gharibi\n",
    "\n",
    "Notebook for assignment 7."
   ]
  },
  {
   "cell_type": "code",
   "execution_count": 5,
   "id": "e087886e-500d-4e8a-bcf6-57e35e7e1144",
   "metadata": {
    "tags": []
   },
   "outputs": [
    {
     "name": "stdout",
     "output_type": "stream",
     "text": [
      "5.0\n"
     ]
    }
   ],
   "source": [
    "def mean(values):\n",
    "    if len(values) == 0:\n",
    "        return 0\n",
    "    return sum(values) / len(values)\n",
    "\n",
    "mean = mean([2, 4, 6, 8])\n",
    "print(mean)"
   ]
  },
  {
   "cell_type": "markdown",
   "id": "dee55d86-81d6-4ef9-8e0e-f29d32a399a6",
   "metadata": {
    "tags": []
   },
   "source": [
    "The code above has a function `mean` that calculates the mean of a list of numbers. It sums up all the numbers in the list and divides by the number of elements so we get the average. The function is then called with the list `[2, 4, 6, 8]`, and the result is printed as `5.0`.\n",
    "\n",
    "This is how it looks in LaTeX:\n",
    "\n",
    "\n",
    "1. One way:\n",
    "$$\n",
    "\\bar{x} = \\frac{x_1 + x_2 + \\cdots + x_n}{n}\n",
    "$$\n",
    "\n",
    "2. Second way:\n",
    "$$\n",
    "   \\bar{x} = \\frac{1}{n} \\left( \\sum_{i=1}^{n} x_i \\right)\n",
    "$$\n",
    "\n"
   ]
  }
 ],
 "metadata": {
  "kernelspec": {
   "display_name": "Python 3 (ipykernel)",
   "language": "python",
   "name": "python3"
  },
  "language_info": {
   "codemirror_mode": {
    "name": "ipython",
    "version": 3
   },
   "file_extension": ".py",
   "mimetype": "text/x-python",
   "name": "python",
   "nbconvert_exporter": "python",
   "pygments_lexer": "ipython3",
   "version": "3.11.4"
  }
 },
 "nbformat": 4,
 "nbformat_minor": 5
}
